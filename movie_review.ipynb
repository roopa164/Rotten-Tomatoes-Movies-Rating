{
 "cells": [
  {
   "cell_type": "code",
   "execution_count": 103,
   "metadata": {},
   "outputs": [],
   "source": [
    "import pandas as pd\n",
    "import numpy as np\n"
   ]
  },
  {
   "cell_type": "markdown",
   "metadata": {},
   "source": [
    "1) Data Cleaning \n",
    "        - convert categorical into continuous\n",
    "        - handle outliers\n",
    "        - handle missing value\n",
    "2) EDA\n",
    "        - visualization using various graphs\n",
    "            - univariant\n",
    "                - target variable (box plot or line chart or histogram )\n",
    "            -Bivariant\n",
    "                - cont-cont(heat map or scatter plot)\n",
    "                - cont-cat(barplot)\n",
    "                - cat-cat(use countplot with hue as target variable)\n",
    "3) split data into training and testing\n",
    "        -Feature scaling\n",
    "        - looking at correlation using heatmap remove highly correlated dummy variables\n",
    "4) Model Building\n",
    "5) Model evaluation"
   ]
  },
  {
   "cell_type": "markdown",
   "metadata": {},
   "source": [
    "#### Step1 ) Read/Merge the data\n",
    "#### Step2) Inspecting the dataframe :\n",
    "        a) df.head()\n",
    "        b)df.shape\n",
    "        c)df.describe()\n",
    "        d) df.info()\n",
    "#### Step3) Data Preprocessing:\n",
    "        a) convert categorical into continuous : encoding , \n",
    "                dummy1 = pd.get_dummies(telecom[['Contract', 'PaymentMethod', 'gender', 'InternetService']], drop_first=True)\n",
    "                # Adding the results to the master dataframe\n",
    "                telecom = pd.concat([telecom, dummy1], axis=1)\n",
    "                \n",
    "        b) checking for outliers and handle using IQR\n",
    "        c) checking for missing values and inputing them\n",
    "#### Step4) Test-Train Split\n",
    "#### Step5) Feature Scaling[for linear Model]\n",
    "                import sklear.preprocessing import StandardScaler\n",
    "                scaler = StandardScaler()\n",
    "                x_train[['tenure','MonthlyCharges','TotalCharges']] = scaler.fit_transform(x_train[['tenure','MonthlyCharges','TotalCharges']])\n",
    "                x_test[['tenure','MonthlyCharges','TotalCharges']] = scaler.transform(x_test[['tenure','MonthlyCharges','TotalCharges']])\n",
    "#### Step6) Looking at Correlation\n",
    "                - Remove highly correlated variables\n",
    "                "
   ]
  },
  {
   "cell_type": "code",
   "execution_count": 104,
   "metadata": {},
   "outputs": [
    {
     "data": {
      "text/html": [
       "<div>\n",
       "<style scoped>\n",
       "    .dataframe tbody tr th:only-of-type {\n",
       "        vertical-align: middle;\n",
       "    }\n",
       "\n",
       "    .dataframe tbody tr th {\n",
       "        vertical-align: top;\n",
       "    }\n",
       "\n",
       "    .dataframe thead th {\n",
       "        text-align: right;\n",
       "    }\n",
       "</style>\n",
       "<table border=\"1\" class=\"dataframe\">\n",
       "  <thead>\n",
       "    <tr style=\"text-align: right;\">\n",
       "      <th></th>\n",
       "      <th>rotten_tomatoes_link</th>\n",
       "      <th>movie_title</th>\n",
       "      <th>movie_info</th>\n",
       "      <th>critics_consensus</th>\n",
       "      <th>content_rating</th>\n",
       "      <th>genres</th>\n",
       "      <th>directors</th>\n",
       "      <th>authors</th>\n",
       "      <th>actors</th>\n",
       "      <th>original_release_date</th>\n",
       "      <th>...</th>\n",
       "      <th>production_company</th>\n",
       "      <th>tomatometer_status</th>\n",
       "      <th>tomatometer_rating</th>\n",
       "      <th>tomatometer_count</th>\n",
       "      <th>audience_status</th>\n",
       "      <th>audience_rating</th>\n",
       "      <th>audience_count</th>\n",
       "      <th>tomatometer_top_critics_count</th>\n",
       "      <th>tomatometer_fresh_critics_count</th>\n",
       "      <th>tomatometer_rotten_critics_count</th>\n",
       "    </tr>\n",
       "  </thead>\n",
       "  <tbody>\n",
       "    <tr>\n",
       "      <th>0</th>\n",
       "      <td>m/0814255</td>\n",
       "      <td>Percy Jackson &amp; the Olympians: The Lightning T...</td>\n",
       "      <td>Always trouble-prone, the life of teenager Per...</td>\n",
       "      <td>Though it may seem like just another Harry Pot...</td>\n",
       "      <td>PG</td>\n",
       "      <td>Action &amp; Adventure, Comedy, Drama, Science Fic...</td>\n",
       "      <td>Chris Columbus</td>\n",
       "      <td>Craig Titley, Chris Columbus, Rick Riordan</td>\n",
       "      <td>Logan Lerman, Brandon T. Jackson, Alexandra Da...</td>\n",
       "      <td>2010-02-12</td>\n",
       "      <td>...</td>\n",
       "      <td>20th Century Fox</td>\n",
       "      <td>Rotten</td>\n",
       "      <td>49.0</td>\n",
       "      <td>149.0</td>\n",
       "      <td>Spilled</td>\n",
       "      <td>53.0</td>\n",
       "      <td>254421.0</td>\n",
       "      <td>43</td>\n",
       "      <td>73</td>\n",
       "      <td>76</td>\n",
       "    </tr>\n",
       "    <tr>\n",
       "      <th>1</th>\n",
       "      <td>m/0878835</td>\n",
       "      <td>Please Give</td>\n",
       "      <td>Kate (Catherine Keener) and her husband Alex (...</td>\n",
       "      <td>Nicole Holofcener's newest might seem slight i...</td>\n",
       "      <td>R</td>\n",
       "      <td>Comedy</td>\n",
       "      <td>Nicole Holofcener</td>\n",
       "      <td>Nicole Holofcener</td>\n",
       "      <td>Catherine Keener, Amanda Peet, Oliver Platt, R...</td>\n",
       "      <td>2010-04-30</td>\n",
       "      <td>...</td>\n",
       "      <td>Sony Pictures Classics</td>\n",
       "      <td>Certified-Fresh</td>\n",
       "      <td>87.0</td>\n",
       "      <td>142.0</td>\n",
       "      <td>Upright</td>\n",
       "      <td>64.0</td>\n",
       "      <td>11574.0</td>\n",
       "      <td>44</td>\n",
       "      <td>123</td>\n",
       "      <td>19</td>\n",
       "    </tr>\n",
       "  </tbody>\n",
       "</table>\n",
       "<p>2 rows × 22 columns</p>\n",
       "</div>"
      ],
      "text/plain": [
       "  rotten_tomatoes_link                                        movie_title  \\\n",
       "0            m/0814255  Percy Jackson & the Olympians: The Lightning T...   \n",
       "1            m/0878835                                        Please Give   \n",
       "\n",
       "                                          movie_info  \\\n",
       "0  Always trouble-prone, the life of teenager Per...   \n",
       "1  Kate (Catherine Keener) and her husband Alex (...   \n",
       "\n",
       "                                   critics_consensus content_rating  \\\n",
       "0  Though it may seem like just another Harry Pot...             PG   \n",
       "1  Nicole Holofcener's newest might seem slight i...              R   \n",
       "\n",
       "                                              genres          directors  \\\n",
       "0  Action & Adventure, Comedy, Drama, Science Fic...     Chris Columbus   \n",
       "1                                             Comedy  Nicole Holofcener   \n",
       "\n",
       "                                      authors  \\\n",
       "0  Craig Titley, Chris Columbus, Rick Riordan   \n",
       "1                           Nicole Holofcener   \n",
       "\n",
       "                                              actors original_release_date  \\\n",
       "0  Logan Lerman, Brandon T. Jackson, Alexandra Da...            2010-02-12   \n",
       "1  Catherine Keener, Amanda Peet, Oliver Platt, R...            2010-04-30   \n",
       "\n",
       "   ...      production_company  tomatometer_status tomatometer_rating  \\\n",
       "0  ...        20th Century Fox              Rotten               49.0   \n",
       "1  ...  Sony Pictures Classics     Certified-Fresh               87.0   \n",
       "\n",
       "  tomatometer_count  audience_status  audience_rating audience_count  \\\n",
       "0             149.0          Spilled             53.0       254421.0   \n",
       "1             142.0          Upright             64.0        11574.0   \n",
       "\n",
       "   tomatometer_top_critics_count  tomatometer_fresh_critics_count  \\\n",
       "0                             43                               73   \n",
       "1                             44                              123   \n",
       "\n",
       "   tomatometer_rotten_critics_count  \n",
       "0                                76  \n",
       "1                                19  \n",
       "\n",
       "[2 rows x 22 columns]"
      ]
     },
     "execution_count": 104,
     "metadata": {},
     "output_type": "execute_result"
    }
   ],
   "source": [
    "movie_data = pd.read_csv(r'rotten_tomatoes_movies.csv')\n",
    "movie_data.head(2)"
   ]
  },
  {
   "cell_type": "code",
   "execution_count": 105,
   "metadata": {},
   "outputs": [
    {
     "data": {
      "text/html": [
       "<div>\n",
       "<style scoped>\n",
       "    .dataframe tbody tr th:only-of-type {\n",
       "        vertical-align: middle;\n",
       "    }\n",
       "\n",
       "    .dataframe tbody tr th {\n",
       "        vertical-align: top;\n",
       "    }\n",
       "\n",
       "    .dataframe thead th {\n",
       "        text-align: right;\n",
       "    }\n",
       "</style>\n",
       "<table border=\"1\" class=\"dataframe\">\n",
       "  <thead>\n",
       "    <tr style=\"text-align: right;\">\n",
       "      <th></th>\n",
       "      <th>runtime</th>\n",
       "      <th>tomatometer_rating</th>\n",
       "      <th>tomatometer_count</th>\n",
       "      <th>audience_rating</th>\n",
       "      <th>audience_count</th>\n",
       "      <th>tomatometer_top_critics_count</th>\n",
       "      <th>tomatometer_fresh_critics_count</th>\n",
       "      <th>tomatometer_rotten_critics_count</th>\n",
       "    </tr>\n",
       "  </thead>\n",
       "  <tbody>\n",
       "    <tr>\n",
       "      <th>count</th>\n",
       "      <td>17398.000000</td>\n",
       "      <td>17668.000000</td>\n",
       "      <td>17668.000000</td>\n",
       "      <td>17416.000000</td>\n",
       "      <td>1.741500e+04</td>\n",
       "      <td>17712.000000</td>\n",
       "      <td>17712.000000</td>\n",
       "      <td>17712.000000</td>\n",
       "    </tr>\n",
       "    <tr>\n",
       "      <th>mean</th>\n",
       "      <td>102.214048</td>\n",
       "      <td>60.884763</td>\n",
       "      <td>57.139801</td>\n",
       "      <td>60.554260</td>\n",
       "      <td>1.439401e+05</td>\n",
       "      <td>14.586326</td>\n",
       "      <td>36.374831</td>\n",
       "      <td>20.703139</td>\n",
       "    </tr>\n",
       "    <tr>\n",
       "      <th>std</th>\n",
       "      <td>18.702511</td>\n",
       "      <td>28.443348</td>\n",
       "      <td>68.370047</td>\n",
       "      <td>20.543369</td>\n",
       "      <td>1.763577e+06</td>\n",
       "      <td>15.146349</td>\n",
       "      <td>52.601038</td>\n",
       "      <td>30.248435</td>\n",
       "    </tr>\n",
       "    <tr>\n",
       "      <th>min</th>\n",
       "      <td>5.000000</td>\n",
       "      <td>0.000000</td>\n",
       "      <td>5.000000</td>\n",
       "      <td>0.000000</td>\n",
       "      <td>5.000000e+00</td>\n",
       "      <td>0.000000</td>\n",
       "      <td>0.000000</td>\n",
       "      <td>0.000000</td>\n",
       "    </tr>\n",
       "    <tr>\n",
       "      <th>25%</th>\n",
       "      <td>90.000000</td>\n",
       "      <td>38.000000</td>\n",
       "      <td>12.000000</td>\n",
       "      <td>45.000000</td>\n",
       "      <td>7.075000e+02</td>\n",
       "      <td>3.000000</td>\n",
       "      <td>6.000000</td>\n",
       "      <td>3.000000</td>\n",
       "    </tr>\n",
       "    <tr>\n",
       "      <th>50%</th>\n",
       "      <td>99.000000</td>\n",
       "      <td>67.000000</td>\n",
       "      <td>28.000000</td>\n",
       "      <td>63.000000</td>\n",
       "      <td>4.277000e+03</td>\n",
       "      <td>8.000000</td>\n",
       "      <td>16.000000</td>\n",
       "      <td>8.000000</td>\n",
       "    </tr>\n",
       "    <tr>\n",
       "      <th>75%</th>\n",
       "      <td>111.000000</td>\n",
       "      <td>86.000000</td>\n",
       "      <td>75.000000</td>\n",
       "      <td>78.000000</td>\n",
       "      <td>2.498800e+04</td>\n",
       "      <td>23.000000</td>\n",
       "      <td>44.000000</td>\n",
       "      <td>24.000000</td>\n",
       "    </tr>\n",
       "    <tr>\n",
       "      <th>max</th>\n",
       "      <td>266.000000</td>\n",
       "      <td>100.000000</td>\n",
       "      <td>574.000000</td>\n",
       "      <td>100.000000</td>\n",
       "      <td>3.579764e+07</td>\n",
       "      <td>69.000000</td>\n",
       "      <td>497.000000</td>\n",
       "      <td>303.000000</td>\n",
       "    </tr>\n",
       "  </tbody>\n",
       "</table>\n",
       "</div>"
      ],
      "text/plain": [
       "            runtime  tomatometer_rating  tomatometer_count  audience_rating  \\\n",
       "count  17398.000000        17668.000000       17668.000000     17416.000000   \n",
       "mean     102.214048           60.884763          57.139801        60.554260   \n",
       "std       18.702511           28.443348          68.370047        20.543369   \n",
       "min        5.000000            0.000000           5.000000         0.000000   \n",
       "25%       90.000000           38.000000          12.000000        45.000000   \n",
       "50%       99.000000           67.000000          28.000000        63.000000   \n",
       "75%      111.000000           86.000000          75.000000        78.000000   \n",
       "max      266.000000          100.000000         574.000000       100.000000   \n",
       "\n",
       "       audience_count  tomatometer_top_critics_count  \\\n",
       "count    1.741500e+04                   17712.000000   \n",
       "mean     1.439401e+05                      14.586326   \n",
       "std      1.763577e+06                      15.146349   \n",
       "min      5.000000e+00                       0.000000   \n",
       "25%      7.075000e+02                       3.000000   \n",
       "50%      4.277000e+03                       8.000000   \n",
       "75%      2.498800e+04                      23.000000   \n",
       "max      3.579764e+07                      69.000000   \n",
       "\n",
       "       tomatometer_fresh_critics_count  tomatometer_rotten_critics_count  \n",
       "count                     17712.000000                      17712.000000  \n",
       "mean                         36.374831                         20.703139  \n",
       "std                          52.601038                         30.248435  \n",
       "min                           0.000000                          0.000000  \n",
       "25%                           6.000000                          3.000000  \n",
       "50%                          16.000000                          8.000000  \n",
       "75%                          44.000000                         24.000000  \n",
       "max                         497.000000                        303.000000  "
      ]
     },
     "execution_count": 105,
     "metadata": {},
     "output_type": "execute_result"
    }
   ],
   "source": [
    "movie_data.describe()"
   ]
  },
  {
   "cell_type": "code",
   "execution_count": 163,
   "metadata": {},
   "outputs": [
    {
     "data": {
      "text/plain": [
       "(17712, 22)"
      ]
     },
     "execution_count": 163,
     "metadata": {},
     "output_type": "execute_result"
    }
   ],
   "source": [
    "\n",
    "\n",
    "movie_data.shape\n"
   ]
  },
  {
   "cell_type": "code",
   "execution_count": 164,
   "metadata": {},
   "outputs": [
    {
     "name": "stdout",
     "output_type": "stream",
     "text": [
      "<class 'pandas.core.frame.DataFrame'>\n",
      "RangeIndex: 17712 entries, 0 to 17711\n",
      "Data columns (total 22 columns):\n",
      " #   Column                            Non-Null Count  Dtype  \n",
      "---  ------                            --------------  -----  \n",
      " 0   rotten_tomatoes_link              17712 non-null  object \n",
      " 1   movie_title                       17712 non-null  object \n",
      " 2   movie_info                        17391 non-null  object \n",
      " 3   critics_consensus                 9134 non-null   object \n",
      " 4   content_rating                    17712 non-null  object \n",
      " 5   genres                            17693 non-null  object \n",
      " 6   directors                         17518 non-null  object \n",
      " 7   authors                           16170 non-null  object \n",
      " 8   actors                            17360 non-null  object \n",
      " 9   original_release_date             16546 non-null  object \n",
      " 10  streaming_release_date            17328 non-null  object \n",
      " 11  runtime                           17398 non-null  float64\n",
      " 12  production_company                17213 non-null  object \n",
      " 13  tomatometer_status                17668 non-null  object \n",
      " 14  tomatometer_rating                17668 non-null  float64\n",
      " 15  tomatometer_count                 17668 non-null  float64\n",
      " 16  audience_status                   17264 non-null  object \n",
      " 17  audience_rating                   17416 non-null  float64\n",
      " 18  audience_count                    17415 non-null  float64\n",
      " 19  tomatometer_top_critics_count     17712 non-null  int64  \n",
      " 20  tomatometer_fresh_critics_count   17712 non-null  int64  \n",
      " 21  tomatometer_rotten_critics_count  17712 non-null  int64  \n",
      "dtypes: float64(5), int64(3), object(14)\n",
      "memory usage: 3.0+ MB\n"
     ]
    }
   ],
   "source": [
    "movie_data.info()"
   ]
  },
  {
   "cell_type": "code",
   "execution_count": 165,
   "metadata": {},
   "outputs": [
    {
     "data": {
      "text/plain": [
       "tomatometer_status\n",
       "Rotten             0.428175\n",
       "Fresh              0.387367\n",
       "Certified-Fresh    0.184458\n",
       "Name: proportion, dtype: float64"
      ]
     },
     "execution_count": 165,
     "metadata": {},
     "output_type": "execute_result"
    }
   ],
   "source": [
    "movie_data.tomatometer_status.value_counts(normalize = True) # this is y"
   ]
  },
  {
   "cell_type": "code",
   "execution_count": 166,
   "metadata": {},
   "outputs": [
    {
     "data": {
      "text/html": [
       "<div>\n",
       "<style scoped>\n",
       "    .dataframe tbody tr th:only-of-type {\n",
       "        vertical-align: middle;\n",
       "    }\n",
       "\n",
       "    .dataframe tbody tr th {\n",
       "        vertical-align: top;\n",
       "    }\n",
       "\n",
       "    .dataframe thead th {\n",
       "        text-align: right;\n",
       "    }\n",
       "</style>\n",
       "<table border=\"1\" class=\"dataframe\">\n",
       "  <thead>\n",
       "    <tr style=\"text-align: right;\">\n",
       "      <th></th>\n",
       "      <th>rotten_tomatoes_link</th>\n",
       "      <th>critic_name</th>\n",
       "      <th>top_critic</th>\n",
       "      <th>publisher_name</th>\n",
       "      <th>review_type</th>\n",
       "      <th>review_score</th>\n",
       "      <th>review_date</th>\n",
       "      <th>review_content</th>\n",
       "    </tr>\n",
       "  </thead>\n",
       "  <tbody>\n",
       "    <tr>\n",
       "      <th>0</th>\n",
       "      <td>m/0814255</td>\n",
       "      <td>Andrew L. Urban</td>\n",
       "      <td>False</td>\n",
       "      <td>Urban Cinefile</td>\n",
       "      <td>Fresh</td>\n",
       "      <td>NaN</td>\n",
       "      <td>2010-02-06</td>\n",
       "      <td>A fantasy adventure that fuses Greek mythology...</td>\n",
       "    </tr>\n",
       "    <tr>\n",
       "      <th>1</th>\n",
       "      <td>m/0814255</td>\n",
       "      <td>Louise Keller</td>\n",
       "      <td>False</td>\n",
       "      <td>Urban Cinefile</td>\n",
       "      <td>Fresh</td>\n",
       "      <td>NaN</td>\n",
       "      <td>2010-02-06</td>\n",
       "      <td>Uma Thurman as Medusa, the gorgon with a coiff...</td>\n",
       "    </tr>\n",
       "    <tr>\n",
       "      <th>2</th>\n",
       "      <td>m/0814255</td>\n",
       "      <td>NaN</td>\n",
       "      <td>False</td>\n",
       "      <td>FILMINK (Australia)</td>\n",
       "      <td>Fresh</td>\n",
       "      <td>NaN</td>\n",
       "      <td>2010-02-09</td>\n",
       "      <td>With a top-notch cast and dazzling special eff...</td>\n",
       "    </tr>\n",
       "    <tr>\n",
       "      <th>3</th>\n",
       "      <td>m/0814255</td>\n",
       "      <td>Ben McEachen</td>\n",
       "      <td>False</td>\n",
       "      <td>Sunday Mail (Australia)</td>\n",
       "      <td>Fresh</td>\n",
       "      <td>3.5/5</td>\n",
       "      <td>2010-02-09</td>\n",
       "      <td>Whether audiences will get behind The Lightnin...</td>\n",
       "    </tr>\n",
       "    <tr>\n",
       "      <th>4</th>\n",
       "      <td>m/0814255</td>\n",
       "      <td>Ethan Alter</td>\n",
       "      <td>True</td>\n",
       "      <td>Hollywood Reporter</td>\n",
       "      <td>Rotten</td>\n",
       "      <td>NaN</td>\n",
       "      <td>2010-02-10</td>\n",
       "      <td>What's really lacking in The Lightning Thief i...</td>\n",
       "    </tr>\n",
       "  </tbody>\n",
       "</table>\n",
       "</div>"
      ],
      "text/plain": [
       "  rotten_tomatoes_link      critic_name  top_critic           publisher_name  \\\n",
       "0            m/0814255  Andrew L. Urban       False           Urban Cinefile   \n",
       "1            m/0814255    Louise Keller       False           Urban Cinefile   \n",
       "2            m/0814255              NaN       False      FILMINK (Australia)   \n",
       "3            m/0814255     Ben McEachen       False  Sunday Mail (Australia)   \n",
       "4            m/0814255      Ethan Alter        True       Hollywood Reporter   \n",
       "\n",
       "  review_type review_score review_date  \\\n",
       "0       Fresh          NaN  2010-02-06   \n",
       "1       Fresh          NaN  2010-02-06   \n",
       "2       Fresh          NaN  2010-02-09   \n",
       "3       Fresh        3.5/5  2010-02-09   \n",
       "4      Rotten          NaN  2010-02-10   \n",
       "\n",
       "                                      review_content  \n",
       "0  A fantasy adventure that fuses Greek mythology...  \n",
       "1  Uma Thurman as Medusa, the gorgon with a coiff...  \n",
       "2  With a top-notch cast and dazzling special eff...  \n",
       "3  Whether audiences will get behind The Lightnin...  \n",
       "4  What's really lacking in The Lightning Thief i...  "
      ]
     },
     "execution_count": 166,
     "metadata": {},
     "output_type": "execute_result"
    }
   ],
   "source": [
    "movie_critics = pd.read_csv(r'rotten_tomatoes_critic_reviews.csv')\n",
    "movie_critics.head()"
   ]
  },
  {
   "cell_type": "code",
   "execution_count": 167,
   "metadata": {},
   "outputs": [
    {
     "data": {
      "text/plain": [
       "((1130017, 8), (17712, 22))"
      ]
     },
     "execution_count": 167,
     "metadata": {},
     "output_type": "execute_result"
    }
   ],
   "source": [
    "movie_critics.shape , movie_data.shape"
   ]
  },
  {
   "cell_type": "markdown",
   "metadata": {},
   "source": [
    "Combining all the data files into the one consolidated dataframe"
   ]
  },
  {
   "cell_type": "code",
   "execution_count": 168,
   "metadata": {},
   "outputs": [
    {
     "name": "stdout",
     "output_type": "stream",
     "text": [
      "<class 'pandas.core.frame.DataFrame'>\n",
      "RangeIndex: 1129887 entries, 0 to 1129886\n",
      "Data columns (total 29 columns):\n",
      " #   Column                            Non-Null Count    Dtype  \n",
      "---  ------                            --------------    -----  \n",
      " 0   rotten_tomatoes_link              1129887 non-null  object \n",
      " 1   movie_title                       1129887 non-null  object \n",
      " 2   movie_info                        1120202 non-null  object \n",
      " 3   critics_consensus                 991907 non-null   object \n",
      " 4   content_rating                    1129887 non-null  object \n",
      " 5   genres                            1129642 non-null  object \n",
      " 6   directors                         1115423 non-null  object \n",
      " 7   authors                           1075164 non-null  object \n",
      " 8   actors                            1119492 non-null  object \n",
      " 9   original_release_date             1106787 non-null  object \n",
      " 10  streaming_release_date            1119728 non-null  object \n",
      " 11  runtime                           1121623 non-null  float64\n",
      " 12  production_company                1118061 non-null  object \n",
      " 13  tomatometer_status                1128421 non-null  object \n",
      " 14  tomatometer_rating                1128421 non-null  float64\n",
      " 15  tomatometer_count                 1128421 non-null  float64\n",
      " 16  audience_status                   1093166 non-null  object \n",
      " 17  audience_rating                   1125598 non-null  float64\n",
      " 18  audience_count                    1125230 non-null  float64\n",
      " 19  tomatometer_top_critics_count     1129887 non-null  int64  \n",
      " 20  tomatometer_fresh_critics_count   1129887 non-null  int64  \n",
      " 21  tomatometer_rotten_critics_count  1129887 non-null  int64  \n",
      " 22  critic_name                       1111366 non-null  object \n",
      " 23  top_critic                        1129887 non-null  bool   \n",
      " 24  publisher_name                    1129887 non-null  object \n",
      " 25  review_type                       1129887 non-null  object \n",
      " 26  review_score                      823985 non-null   object \n",
      " 27  review_date                       1129887 non-null  object \n",
      " 28  review_content                    1064109 non-null  object \n",
      "dtypes: bool(1), float64(5), int64(3), object(20)\n",
      "memory usage: 242.4+ MB\n"
     ]
    }
   ],
   "source": [
    "# join the two table\n",
    "\n",
    "full_data = movie_data.merge(movie_critics , how='inner' , on='rotten_tomatoes_link')\n",
    "full_data.info()"
   ]
  },
  {
   "cell_type": "markdown",
   "metadata": {},
   "source": [
    "Data Preporocessing: Missing values , outliers"
   ]
  },
  {
   "cell_type": "code",
   "execution_count": 169,
   "metadata": {},
   "outputs": [
    {
     "data": {
      "text/plain": [
       "rotten_tomatoes_link                     0\n",
       "movie_title                              0\n",
       "movie_info                            9685\n",
       "critics_consensus                   137980\n",
       "content_rating                           0\n",
       "genres                                 245\n",
       "directors                            14464\n",
       "authors                              54723\n",
       "actors                               10395\n",
       "original_release_date                23100\n",
       "streaming_release_date               10159\n",
       "runtime                               8264\n",
       "production_company                   11826\n",
       "tomatometer_status                    1466\n",
       "tomatometer_rating                    1466\n",
       "tomatometer_count                     1466\n",
       "audience_status                      36721\n",
       "audience_rating                       4289\n",
       "audience_count                        4657\n",
       "tomatometer_top_critics_count            0\n",
       "tomatometer_fresh_critics_count          0\n",
       "tomatometer_rotten_critics_count         0\n",
       "critic_name                          18521\n",
       "top_critic                               0\n",
       "publisher_name                           0\n",
       "review_type                              0\n",
       "review_score                        305902\n",
       "review_date                              0\n",
       "review_content                       65778\n",
       "dtype: int64"
      ]
     },
     "execution_count": 169,
     "metadata": {},
     "output_type": "execute_result"
    }
   ],
   "source": [
    "full_data.isna().sum()"
   ]
  },
  {
   "cell_type": "markdown",
   "metadata": {},
   "source": [
    "Step2) Inspecting the dataframe"
   ]
  },
  {
   "cell_type": "code",
   "execution_count": 170,
   "metadata": {},
   "outputs": [
    {
     "data": {
      "text/plain": [
       "(1129887, 29)"
      ]
     },
     "execution_count": 170,
     "metadata": {},
     "output_type": "execute_result"
    }
   ],
   "source": [
    "full_data.shape"
   ]
  },
  {
   "cell_type": "code",
   "execution_count": 171,
   "metadata": {},
   "outputs": [
    {
     "data": {
      "text/html": [
       "<div>\n",
       "<style scoped>\n",
       "    .dataframe tbody tr th:only-of-type {\n",
       "        vertical-align: middle;\n",
       "    }\n",
       "\n",
       "    .dataframe tbody tr th {\n",
       "        vertical-align: top;\n",
       "    }\n",
       "\n",
       "    .dataframe thead th {\n",
       "        text-align: right;\n",
       "    }\n",
       "</style>\n",
       "<table border=\"1\" class=\"dataframe\">\n",
       "  <thead>\n",
       "    <tr style=\"text-align: right;\">\n",
       "      <th></th>\n",
       "      <th>name</th>\n",
       "      <th>value</th>\n",
       "      <th>total_rows</th>\n",
       "      <th>missing_%_value</th>\n",
       "    </tr>\n",
       "  </thead>\n",
       "  <tbody>\n",
       "    <tr>\n",
       "      <th>0</th>\n",
       "      <td>rotten_tomatoes_link</td>\n",
       "      <td>0</td>\n",
       "      <td>1129887</td>\n",
       "      <td>0.000000</td>\n",
       "    </tr>\n",
       "    <tr>\n",
       "      <th>1</th>\n",
       "      <td>movie_title</td>\n",
       "      <td>0</td>\n",
       "      <td>1129887</td>\n",
       "      <td>0.000000</td>\n",
       "    </tr>\n",
       "    <tr>\n",
       "      <th>2</th>\n",
       "      <td>movie_info</td>\n",
       "      <td>9685</td>\n",
       "      <td>1129887</td>\n",
       "      <td>0.857165</td>\n",
       "    </tr>\n",
       "    <tr>\n",
       "      <th>3</th>\n",
       "      <td>critics_consensus</td>\n",
       "      <td>137980</td>\n",
       "      <td>1129887</td>\n",
       "      <td>12.211841</td>\n",
       "    </tr>\n",
       "    <tr>\n",
       "      <th>4</th>\n",
       "      <td>content_rating</td>\n",
       "      <td>0</td>\n",
       "      <td>1129887</td>\n",
       "      <td>0.000000</td>\n",
       "    </tr>\n",
       "    <tr>\n",
       "      <th>5</th>\n",
       "      <td>genres</td>\n",
       "      <td>245</td>\n",
       "      <td>1129887</td>\n",
       "      <td>0.021684</td>\n",
       "    </tr>\n",
       "    <tr>\n",
       "      <th>6</th>\n",
       "      <td>directors</td>\n",
       "      <td>14464</td>\n",
       "      <td>1129887</td>\n",
       "      <td>1.280128</td>\n",
       "    </tr>\n",
       "    <tr>\n",
       "      <th>7</th>\n",
       "      <td>authors</td>\n",
       "      <td>54723</td>\n",
       "      <td>1129887</td>\n",
       "      <td>4.843228</td>\n",
       "    </tr>\n",
       "    <tr>\n",
       "      <th>8</th>\n",
       "      <td>actors</td>\n",
       "      <td>10395</td>\n",
       "      <td>1129887</td>\n",
       "      <td>0.920004</td>\n",
       "    </tr>\n",
       "    <tr>\n",
       "      <th>9</th>\n",
       "      <td>original_release_date</td>\n",
       "      <td>23100</td>\n",
       "      <td>1129887</td>\n",
       "      <td>2.044452</td>\n",
       "    </tr>\n",
       "    <tr>\n",
       "      <th>10</th>\n",
       "      <td>streaming_release_date</td>\n",
       "      <td>10159</td>\n",
       "      <td>1129887</td>\n",
       "      <td>0.899116</td>\n",
       "    </tr>\n",
       "    <tr>\n",
       "      <th>11</th>\n",
       "      <td>runtime</td>\n",
       "      <td>8264</td>\n",
       "      <td>1129887</td>\n",
       "      <td>0.731401</td>\n",
       "    </tr>\n",
       "    <tr>\n",
       "      <th>12</th>\n",
       "      <td>production_company</td>\n",
       "      <td>11826</td>\n",
       "      <td>1129887</td>\n",
       "      <td>1.046653</td>\n",
       "    </tr>\n",
       "    <tr>\n",
       "      <th>13</th>\n",
       "      <td>tomatometer_status</td>\n",
       "      <td>1466</td>\n",
       "      <td>1129887</td>\n",
       "      <td>0.129747</td>\n",
       "    </tr>\n",
       "    <tr>\n",
       "      <th>14</th>\n",
       "      <td>tomatometer_rating</td>\n",
       "      <td>1466</td>\n",
       "      <td>1129887</td>\n",
       "      <td>0.129747</td>\n",
       "    </tr>\n",
       "    <tr>\n",
       "      <th>15</th>\n",
       "      <td>tomatometer_count</td>\n",
       "      <td>1466</td>\n",
       "      <td>1129887</td>\n",
       "      <td>0.129747</td>\n",
       "    </tr>\n",
       "    <tr>\n",
       "      <th>16</th>\n",
       "      <td>audience_status</td>\n",
       "      <td>36721</td>\n",
       "      <td>1129887</td>\n",
       "      <td>3.249971</td>\n",
       "    </tr>\n",
       "    <tr>\n",
       "      <th>17</th>\n",
       "      <td>audience_rating</td>\n",
       "      <td>4289</td>\n",
       "      <td>1129887</td>\n",
       "      <td>0.379595</td>\n",
       "    </tr>\n",
       "    <tr>\n",
       "      <th>18</th>\n",
       "      <td>audience_count</td>\n",
       "      <td>4657</td>\n",
       "      <td>1129887</td>\n",
       "      <td>0.412165</td>\n",
       "    </tr>\n",
       "    <tr>\n",
       "      <th>19</th>\n",
       "      <td>tomatometer_top_critics_count</td>\n",
       "      <td>0</td>\n",
       "      <td>1129887</td>\n",
       "      <td>0.000000</td>\n",
       "    </tr>\n",
       "    <tr>\n",
       "      <th>20</th>\n",
       "      <td>tomatometer_fresh_critics_count</td>\n",
       "      <td>0</td>\n",
       "      <td>1129887</td>\n",
       "      <td>0.000000</td>\n",
       "    </tr>\n",
       "    <tr>\n",
       "      <th>21</th>\n",
       "      <td>tomatometer_rotten_critics_count</td>\n",
       "      <td>0</td>\n",
       "      <td>1129887</td>\n",
       "      <td>0.000000</td>\n",
       "    </tr>\n",
       "    <tr>\n",
       "      <th>22</th>\n",
       "      <td>critic_name</td>\n",
       "      <td>18521</td>\n",
       "      <td>1129887</td>\n",
       "      <td>1.639190</td>\n",
       "    </tr>\n",
       "    <tr>\n",
       "      <th>23</th>\n",
       "      <td>top_critic</td>\n",
       "      <td>0</td>\n",
       "      <td>1129887</td>\n",
       "      <td>0.000000</td>\n",
       "    </tr>\n",
       "    <tr>\n",
       "      <th>24</th>\n",
       "      <td>publisher_name</td>\n",
       "      <td>0</td>\n",
       "      <td>1129887</td>\n",
       "      <td>0.000000</td>\n",
       "    </tr>\n",
       "    <tr>\n",
       "      <th>25</th>\n",
       "      <td>review_type</td>\n",
       "      <td>0</td>\n",
       "      <td>1129887</td>\n",
       "      <td>0.000000</td>\n",
       "    </tr>\n",
       "    <tr>\n",
       "      <th>26</th>\n",
       "      <td>review_score</td>\n",
       "      <td>305902</td>\n",
       "      <td>1129887</td>\n",
       "      <td>27.073681</td>\n",
       "    </tr>\n",
       "    <tr>\n",
       "      <th>27</th>\n",
       "      <td>review_date</td>\n",
       "      <td>0</td>\n",
       "      <td>1129887</td>\n",
       "      <td>0.000000</td>\n",
       "    </tr>\n",
       "    <tr>\n",
       "      <th>28</th>\n",
       "      <td>review_content</td>\n",
       "      <td>65778</td>\n",
       "      <td>1129887</td>\n",
       "      <td>5.821644</td>\n",
       "    </tr>\n",
       "  </tbody>\n",
       "</table>\n",
       "</div>"
      ],
      "text/plain": [
       "                                name   value  total_rows  missing_%_value\n",
       "0               rotten_tomatoes_link       0     1129887         0.000000\n",
       "1                        movie_title       0     1129887         0.000000\n",
       "2                         movie_info    9685     1129887         0.857165\n",
       "3                  critics_consensus  137980     1129887        12.211841\n",
       "4                     content_rating       0     1129887         0.000000\n",
       "5                             genres     245     1129887         0.021684\n",
       "6                          directors   14464     1129887         1.280128\n",
       "7                            authors   54723     1129887         4.843228\n",
       "8                             actors   10395     1129887         0.920004\n",
       "9              original_release_date   23100     1129887         2.044452\n",
       "10            streaming_release_date   10159     1129887         0.899116\n",
       "11                           runtime    8264     1129887         0.731401\n",
       "12                production_company   11826     1129887         1.046653\n",
       "13                tomatometer_status    1466     1129887         0.129747\n",
       "14                tomatometer_rating    1466     1129887         0.129747\n",
       "15                 tomatometer_count    1466     1129887         0.129747\n",
       "16                   audience_status   36721     1129887         3.249971\n",
       "17                   audience_rating    4289     1129887         0.379595\n",
       "18                    audience_count    4657     1129887         0.412165\n",
       "19     tomatometer_top_critics_count       0     1129887         0.000000\n",
       "20   tomatometer_fresh_critics_count       0     1129887         0.000000\n",
       "21  tomatometer_rotten_critics_count       0     1129887         0.000000\n",
       "22                       critic_name   18521     1129887         1.639190\n",
       "23                        top_critic       0     1129887         0.000000\n",
       "24                    publisher_name       0     1129887         0.000000\n",
       "25                       review_type       0     1129887         0.000000\n",
       "26                      review_score  305902     1129887        27.073681\n",
       "27                       review_date       0     1129887         0.000000\n",
       "28                    review_content   65778     1129887         5.821644"
      ]
     },
     "execution_count": 171,
     "metadata": {},
     "output_type": "execute_result"
    }
   ],
   "source": [
    "# missing value percentage in data : No column has sufficient missing percentage\n",
    "missing_column = full_data.isna().sum().reset_index()\n",
    "missing_column.columns = ['name','value']\n",
    "missing_column['total_rows'] = full_data.shape[0]\n",
    "missing_column.head(5)\n",
    "missing_column['missing_%_value'] = (missing_column['value'] /missing_column['total_rows'])*100\n",
    "missing_column"
   ]
  },
  {
   "cell_type": "code",
   "execution_count": 177,
   "metadata": {},
   "outputs": [],
   "source": [
    "data = full_data[['content_rating','original_release_date','streaming_release_date','runtime','tomatometer_status','tomatometer_rating','tomatometer_count',\n",
    "           'audience_status', 'audience_rating',\n",
    "       'audience_count', 'tomatometer_top_critics_count',\n",
    "       'tomatometer_fresh_critics_count', 'tomatometer_rotten_critics_count',\n",
    "       'top_critic', 'review_type',\n",
    "       'review_score', 'review_date']]"
   ]
  },
  {
   "cell_type": "code",
   "execution_count": 178,
   "metadata": {},
   "outputs": [
    {
     "name": "stdout",
     "output_type": "stream",
     "text": [
      "<class 'pandas.core.frame.DataFrame'>\n",
      "RangeIndex: 1129887 entries, 0 to 1129886\n",
      "Data columns (total 17 columns):\n",
      " #   Column                            Non-Null Count    Dtype  \n",
      "---  ------                            --------------    -----  \n",
      " 0   content_rating                    1129887 non-null  object \n",
      " 1   original_release_date             1106787 non-null  object \n",
      " 2   streaming_release_date            1119728 non-null  object \n",
      " 3   runtime                           1121623 non-null  float64\n",
      " 4   tomatometer_status                1128421 non-null  object \n",
      " 5   tomatometer_rating                1128421 non-null  float64\n",
      " 6   tomatometer_count                 1128421 non-null  float64\n",
      " 7   audience_status                   1093166 non-null  object \n",
      " 8   audience_rating                   1125598 non-null  float64\n",
      " 9   audience_count                    1125230 non-null  float64\n",
      " 10  tomatometer_top_critics_count     1129887 non-null  int64  \n",
      " 11  tomatometer_fresh_critics_count   1129887 non-null  int64  \n",
      " 12  tomatometer_rotten_critics_count  1129887 non-null  int64  \n",
      " 13  top_critic                        1129887 non-null  bool   \n",
      " 14  review_type                       1129887 non-null  object \n",
      " 15  review_score                      823985 non-null   object \n",
      " 16  review_date                       1129887 non-null  object \n",
      "dtypes: bool(1), float64(5), int64(3), object(8)\n",
      "memory usage: 139.0+ MB\n"
     ]
    }
   ],
   "source": [
    "data.info()"
   ]
  },
  {
   "cell_type": "code",
   "execution_count": 179,
   "metadata": {},
   "outputs": [
    {
     "data": {
      "text/plain": [
       "content_rating                           0\n",
       "original_release_date                23100\n",
       "streaming_release_date               10159\n",
       "runtime                               8264\n",
       "tomatometer_status                    1466\n",
       "tomatometer_rating                    1466\n",
       "tomatometer_count                     1466\n",
       "audience_status                      36721\n",
       "audience_rating                       4289\n",
       "audience_count                        4657\n",
       "tomatometer_top_critics_count            0\n",
       "tomatometer_fresh_critics_count          0\n",
       "tomatometer_rotten_critics_count         0\n",
       "top_critic                               0\n",
       "review_type                              0\n",
       "review_score                        305902\n",
       "review_date                              0\n",
       "dtype: int64"
      ]
     },
     "execution_count": 179,
     "metadata": {},
     "output_type": "execute_result"
    }
   ],
   "source": [
    "data.isna().sum()"
   ]
  },
  {
   "cell_type": "code",
   "execution_count": 180,
   "metadata": {},
   "outputs": [
    {
     "name": "stderr",
     "output_type": "stream",
     "text": [
      "/var/folders/zv/2d04czqj0pdg7tx96g6xj01m0000gq/T/ipykernel_86574/2698229960.py:1: SettingWithCopyWarning: \n",
      "A value is trying to be set on a copy of a slice from a DataFrame.\n",
      "Try using .loc[row_indexer,col_indexer] = value instead\n",
      "\n",
      "See the caveats in the documentation: https://pandas.pydata.org/pandas-docs/stable/user_guide/indexing.html#returning-a-view-versus-a-copy\n",
      "  data['original_release_date'] = pd.to_datetime(data['original_release_date'])\n"
     ]
    },
    {
     "data": {
      "text/plain": [
       "0   2010-02-12\n",
       "1   2010-02-12\n",
       "2   2010-02-12\n",
       "3   2010-02-12\n",
       "4   2010-02-12\n",
       "Name: original_release_date, dtype: datetime64[ns]"
      ]
     },
     "execution_count": 180,
     "metadata": {},
     "output_type": "execute_result"
    }
   ],
   "source": [
    "data['original_release_date'] = pd.to_datetime(data['original_release_date'])\n",
    "data['original_release_date'].head()\n"
   ]
  },
  {
   "cell_type": "code",
   "execution_count": 181,
   "metadata": {},
   "outputs": [
    {
     "name": "stderr",
     "output_type": "stream",
     "text": [
      "/var/folders/zv/2d04czqj0pdg7tx96g6xj01m0000gq/T/ipykernel_86574/2916889510.py:1: SettingWithCopyWarning: \n",
      "A value is trying to be set on a copy of a slice from a DataFrame.\n",
      "Try using .loc[row_indexer,col_indexer] = value instead\n",
      "\n",
      "See the caveats in the documentation: https://pandas.pydata.org/pandas-docs/stable/user_guide/indexing.html#returning-a-view-versus-a-copy\n",
      "  data['streaming_release_date'] = pd.to_datetime(data['streaming_release_date'])\n"
     ]
    },
    {
     "data": {
      "text/plain": [
       "0   2015-11-25\n",
       "1   2015-11-25\n",
       "2   2015-11-25\n",
       "3   2015-11-25\n",
       "4   2015-11-25\n",
       "Name: streaming_release_date, dtype: datetime64[ns]"
      ]
     },
     "execution_count": 181,
     "metadata": {},
     "output_type": "execute_result"
    }
   ],
   "source": [
    "data['streaming_release_date'] = pd.to_datetime(data['streaming_release_date'])\n",
    "data['streaming_release_date'].head()"
   ]
  },
  {
   "cell_type": "code",
   "execution_count": 182,
   "metadata": {},
   "outputs": [
    {
     "name": "stderr",
     "output_type": "stream",
     "text": [
      "/var/folders/zv/2d04czqj0pdg7tx96g6xj01m0000gq/T/ipykernel_86574/859528190.py:1: SettingWithCopyWarning: \n",
      "A value is trying to be set on a copy of a slice from a DataFrame\n",
      "\n",
      "See the caveats in the documentation: https://pandas.pydata.org/pandas-docs/stable/user_guide/indexing.html#returning-a-view-versus-a-copy\n",
      "  data.fillna(data.median(numeric_only=True), inplace = True)\n"
     ]
    }
   ],
   "source": [
    "data.fillna(data.median(numeric_only=True), inplace = True)\n"
   ]
  },
  {
   "cell_type": "code",
   "execution_count": 183,
   "metadata": {},
   "outputs": [
    {
     "name": "stderr",
     "output_type": "stream",
     "text": [
      "/var/folders/zv/2d04czqj0pdg7tx96g6xj01m0000gq/T/ipykernel_86574/4141175735.py:1: SettingWithCopyWarning: \n",
      "A value is trying to be set on a copy of a slice from a DataFrame.\n",
      "Try using .loc[row_indexer,col_indexer] = value instead\n",
      "\n",
      "See the caveats in the documentation: https://pandas.pydata.org/pandas-docs/stable/user_guide/indexing.html#returning-a-view-versus-a-copy\n",
      "  data['review_score'] = data['review_score'].fillna(data['review_score'].mode())\n",
      "/var/folders/zv/2d04czqj0pdg7tx96g6xj01m0000gq/T/ipykernel_86574/4141175735.py:2: SettingWithCopyWarning: \n",
      "A value is trying to be set on a copy of a slice from a DataFrame.\n",
      "Try using .loc[row_indexer,col_indexer] = value instead\n",
      "\n",
      "See the caveats in the documentation: https://pandas.pydata.org/pandas-docs/stable/user_guide/indexing.html#returning-a-view-versus-a-copy\n",
      "  data['audience_status'] = data['audience_count'].fillna(data['audience_status'].mode())\n"
     ]
    }
   ],
   "source": [
    "data['review_score'] = data['review_score'].fillna(data['review_score'].mode())\n",
    "data['audience_status'] = data['audience_count'].fillna(data['audience_status'].mode())"
   ]
  },
  {
   "cell_type": "code",
   "execution_count": 184,
   "metadata": {},
   "outputs": [
    {
     "name": "stderr",
     "output_type": "stream",
     "text": [
      "/var/folders/zv/2d04czqj0pdg7tx96g6xj01m0000gq/T/ipykernel_86574/3121949092.py:3: SettingWithCopyWarning: \n",
      "A value is trying to be set on a copy of a slice from a DataFrame\n",
      "\n",
      "See the caveats in the documentation: https://pandas.pydata.org/pandas-docs/stable/user_guide/indexing.html#returning-a-view-versus-a-copy\n",
      "  data.dropna(subset=['tomatometer_status'], axis = 0, inplace=True)\n"
     ]
    }
   ],
   "source": [
    "# remove the rows where y(tomatometer_status) value is not defined\n",
    "\n",
    "data.dropna(subset=['tomatometer_status'], axis = 0, inplace=True)"
   ]
  },
  {
   "cell_type": "code",
   "execution_count": 185,
   "metadata": {},
   "outputs": [
    {
     "data": {
      "text/plain": [
       "content_rating                           0\n",
       "original_release_date                22840\n",
       "streaming_release_date                9082\n",
       "runtime                                  0\n",
       "tomatometer_status                       0\n",
       "tomatometer_rating                       0\n",
       "tomatometer_count                        0\n",
       "audience_status                          0\n",
       "audience_rating                          0\n",
       "audience_count                           0\n",
       "tomatometer_top_critics_count            0\n",
       "tomatometer_fresh_critics_count          0\n",
       "tomatometer_rotten_critics_count         0\n",
       "top_critic                               0\n",
       "review_type                              0\n",
       "review_score                        305438\n",
       "review_date                              0\n",
       "dtype: int64"
      ]
     },
     "execution_count": 185,
     "metadata": {},
     "output_type": "execute_result"
    }
   ],
   "source": [
    "data.isna().sum()"
   ]
  },
  {
   "cell_type": "code",
   "execution_count": 186,
   "metadata": {},
   "outputs": [
    {
     "name": "stderr",
     "output_type": "stream",
     "text": [
      "/var/folders/zv/2d04czqj0pdg7tx96g6xj01m0000gq/T/ipykernel_86574/3448825377.py:2: SettingWithCopyWarning: \n",
      "A value is trying to be set on a copy of a slice from a DataFrame.\n",
      "Try using .loc[row_indexer,col_indexer] = value instead\n",
      "\n",
      "See the caveats in the documentation: https://pandas.pydata.org/pandas-docs/stable/user_guide/indexing.html#returning-a-view-versus-a-copy\n",
      "  data['days_between_streaming_release'] = data['streaming_release_date'] - data['original_release_date']\n",
      "/var/folders/zv/2d04czqj0pdg7tx96g6xj01m0000gq/T/ipykernel_86574/3448825377.py:3: SettingWithCopyWarning: \n",
      "A value is trying to be set on a copy of a slice from a DataFrame.\n",
      "Try using .loc[row_indexer,col_indexer] = value instead\n",
      "\n",
      "See the caveats in the documentation: https://pandas.pydata.org/pandas-docs/stable/user_guide/indexing.html#returning-a-view-versus-a-copy\n",
      "  data['days_between_streaming_release'] = data['days_between_streaming_release'].apply(lambda x: x.days)\n",
      "/var/folders/zv/2d04czqj0pdg7tx96g6xj01m0000gq/T/ipykernel_86574/3448825377.py:6: SettingWithCopyWarning: \n",
      "A value is trying to be set on a copy of a slice from a DataFrame\n",
      "\n",
      "See the caveats in the documentation: https://pandas.pydata.org/pandas-docs/stable/user_guide/indexing.html#returning-a-view-versus-a-copy\n",
      "  data.drop(['original_release_date','streaming_release_date','review_date'], axis =1 , inplace=True)\n"
     ]
    }
   ],
   "source": [
    "# Feature Engineering\n",
    "data['days_between_streaming_release'] = data['streaming_release_date'] - data['original_release_date']\n",
    "data['days_between_streaming_release'] = data['days_between_streaming_release'].apply(lambda x: x.days)\n",
    "\n",
    "# Removing unwanted columns\n",
    "data.drop(['original_release_date','streaming_release_date','review_date'], axis =1 , inplace=True)"
   ]
  },
  {
   "cell_type": "code",
   "execution_count": 187,
   "metadata": {},
   "outputs": [],
   "source": [
    "# EDA\n",
    "\n",
    "import seaborn as sns\n",
    "import matplotlib.pyplot as plt\n"
   ]
  },
  {
   "cell_type": "code",
   "execution_count": 188,
   "metadata": {},
   "outputs": [],
   "source": [
    "data_cont = data.drop(['content_rating','tomatometer_status','top_critic','review_type','review_score'], axis =1)\n",
    "data_cat = data[['content_rating','tomatometer_status','top_critic','review_type','review_score']]"
   ]
  },
  {
   "cell_type": "code",
   "execution_count": 189,
   "metadata": {},
   "outputs": [
    {
     "data": {
      "image/png": "[encoded data removed]",
      "text/plain": [
       "<Figure size 640x480 with 2 Axes>"
      ]
     },
     "metadata": {},
     "output_type": "display_data"
    }
   ],
   "source": [
    "sns.heatmap(data_cont.corr() , annot=True) # no effective correlation\n",
    "plt.title('Correlation Matrix')\n",
    "plt.show()"
   ]
  },
  {
   "cell_type": "code",
   "execution_count": null,
   "metadata": {},
   "outputs": [],
   "source": []
  },
  {
   "cell_type": "code",
   "execution_count": 190,
   "metadata": {},
   "outputs": [
    {
     "data": {
      "text/plain": [
       "<Axes: xlabel='tomatometer_status', ylabel='audience_rating'>"
      ]
     },
     "execution_count": 190,
     "metadata": {},
     "output_type": "execute_result"
    },
    {
     "data": {
      "image/png": "[encoded data removed]",
      "text/plain": [
       "<Figure size 640x480 with 1 Axes>"
      ]
     },
     "metadata": {},
     "output_type": "display_data"
    }
   ],
   "source": [
    "sns.boxplot(data = data , x = 'tomatometer_status' , y ='audience_rating')"
   ]
  },
  {
   "cell_type": "code",
   "execution_count": 191,
   "metadata": {},
   "outputs": [
    {
     "data": {
      "text/plain": [
       "(Index(['runtime', 'tomatometer_rating', 'tomatometer_count', 'audience_status',\n",
       "        'audience_rating', 'audience_count', 'tomatometer_top_critics_count',\n",
       "        'tomatometer_fresh_critics_count', 'tomatometer_rotten_critics_count',\n",
       "        'days_between_streaming_release'],\n",
       "       dtype='object'),\n",
       " Index(['content_rating', 'tomatometer_status', 'top_critic', 'review_type',\n",
       "        'review_score'],\n",
       "       dtype='object'))"
      ]
     },
     "execution_count": 191,
     "metadata": {},
     "output_type": "execute_result"
    }
   ],
   "source": [
    "data_cont.columns , data_cat.columns"
   ]
  },
  {
   "cell_type": "code",
   "execution_count": 192,
   "metadata": {},
   "outputs": [
    {
     "data": {
      "text/plain": [
       "<Axes: xlabel='tomatometer_status', ylabel='days_between_streaming_release'>"
      ]
     },
     "execution_count": 192,
     "metadata": {},
     "output_type": "execute_result"
    },
    {
     "data": {
      "image/png": "[encoded data removed]",
      "text/plain": [
       "<Figure size 2000x900 with 10 Axes>"
      ]
     },
     "metadata": {},
     "output_type": "display_data"
    }
   ],
   "source": [
    "fig, axes = plt.subplots(2,5 , figsize =(20,9))\n",
    "fig.suptitle('Relationship between target variable vs continuous variable')\n",
    "\n",
    "sns.boxplot(ax = axes[0,0] , data = data , x='tomatometer_status' , y ='runtime')\n",
    "sns.boxplot(ax = axes[0,1] , data = data , x='tomatometer_status' , y ='tomatometer_rating')\n",
    "sns.boxplot(ax = axes[0,2] , data = data , x='tomatometer_status' , y ='tomatometer_count')\n",
    "sns.boxplot(ax = axes[0,3] , data = data , x='tomatometer_status' , y ='audience_status')\n",
    "sns.boxplot(ax = axes[0,4] , data = data , x='tomatometer_status' , y ='audience_rating')\n",
    "\n",
    "\n",
    "\n",
    "sns.boxplot(ax = axes[1,0] , data = data , x='tomatometer_status' , y ='audience_count')\n",
    "sns.boxplot(ax = axes[1,1] , data = data , x='tomatometer_status' , y ='tomatometer_top_critics_count')\n",
    "sns.boxplot(ax = axes[1,2] , data = data , x='tomatometer_status' , y ='tomatometer_fresh_critics_count')\n",
    "sns.boxplot(ax = axes[1,3] , data = data , x='tomatometer_status' , y ='tomatometer_rotten_critics_count')\n",
    "sns.boxplot(ax = axes[1,4] , data = data , x='tomatometer_status' , y ='days_between_streaming_release')\n",
    "\n"
   ]
  },
  {
   "cell_type": "code",
   "execution_count": 193,
   "metadata": {},
   "outputs": [
    {
     "data": {
      "text/plain": [
       "content_rating                           0\n",
       "runtime                                  0\n",
       "tomatometer_status                       0\n",
       "tomatometer_rating                       0\n",
       "tomatometer_count                        0\n",
       "audience_status                          0\n",
       "audience_rating                          0\n",
       "audience_count                           0\n",
       "tomatometer_top_critics_count            0\n",
       "tomatometer_fresh_critics_count          0\n",
       "tomatometer_rotten_critics_count         0\n",
       "top_critic                               0\n",
       "review_type                              0\n",
       "review_score                        305438\n",
       "days_between_streaming_release       30158\n",
       "dtype: int64"
      ]
     },
     "execution_count": 193,
     "metadata": {},
     "output_type": "execute_result"
    }
   ],
   "source": [
    "data.isna().sum()"
   ]
  },
  {
   "cell_type": "code",
   "execution_count": 194,
   "metadata": {},
   "outputs": [
    {
     "name": "stderr",
     "output_type": "stream",
     "text": [
      "/var/folders/zv/2d04czqj0pdg7tx96g6xj01m0000gq/T/ipykernel_86574/1137260876.py:1: SettingWithCopyWarning: \n",
      "A value is trying to be set on a copy of a slice from a DataFrame.\n",
      "Try using .loc[row_indexer,col_indexer] = value instead\n",
      "\n",
      "See the caveats in the documentation: https://pandas.pydata.org/pandas-docs/stable/user_guide/indexing.html#returning-a-view-versus-a-copy\n",
      "  data['days_between_streaming_release'] = data['days_between_streaming_release'].fillna(data['days_between_streaming_release'].mean())\n",
      "/var/folders/zv/2d04czqj0pdg7tx96g6xj01m0000gq/T/ipykernel_86574/1137260876.py:2: SettingWithCopyWarning: \n",
      "A value is trying to be set on a copy of a slice from a DataFrame\n",
      "\n",
      "See the caveats in the documentation: https://pandas.pydata.org/pandas-docs/stable/user_guide/indexing.html#returning-a-view-versus-a-copy\n",
      "  data.drop(columns=['review_score'],axis =1 ,inplace= True)\n"
     ]
    }
   ],
   "source": [
    "data['days_between_streaming_release'] = data['days_between_streaming_release'].fillna(data['days_between_streaming_release'].mean())\n",
    "data.drop(columns=['review_score'],axis =1 ,inplace= True)"
   ]
  },
  {
   "cell_type": "code",
   "execution_count": 195,
   "metadata": {},
   "outputs": [
    {
     "name": "stderr",
     "output_type": "stream",
     "text": [
      "/var/folders/zv/2d04czqj0pdg7tx96g6xj01m0000gq/T/ipykernel_86574/2496107765.py:2: SettingWithCopyWarning: \n",
      "A value is trying to be set on a copy of a slice from a DataFrame\n",
      "\n",
      "See the caveats in the documentation: https://pandas.pydata.org/pandas-docs/stable/user_guide/indexing.html#returning-a-view-versus-a-copy\n",
      "  data['tomatometer_status'].replace(['Rotten','Fresh','Certified-Fresh'],[0,1,2] , inplace = True)\n",
      "/var/folders/zv/2d04czqj0pdg7tx96g6xj01m0000gq/T/ipykernel_86574/2496107765.py:3: SettingWithCopyWarning: \n",
      "A value is trying to be set on a copy of a slice from a DataFrame\n",
      "\n",
      "See the caveats in the documentation: https://pandas.pydata.org/pandas-docs/stable/user_guide/indexing.html#returning-a-view-versus-a-copy\n",
      "  data['content_rating'].replace(['R','PG-13','NR','PG','G','NC17'],[0,1,2,3,4,5],inplace=True)\n",
      "/var/folders/zv/2d04czqj0pdg7tx96g6xj01m0000gq/T/ipykernel_86574/2496107765.py:5: SettingWithCopyWarning: \n",
      "A value is trying to be set on a copy of a slice from a DataFrame\n",
      "\n",
      "See the caveats in the documentation: https://pandas.pydata.org/pandas-docs/stable/user_guide/indexing.html#returning-a-view-versus-a-copy\n",
      "  data['review_type'].replace(['Rotten','Fresh'],[0,1], inplace=True)\n"
     ]
    }
   ],
   "source": [
    "# using Label Encoding\n",
    "data['tomatometer_status'].replace(['Rotten','Fresh','Certified-Fresh'],[0,1,2] , inplace = True)\n",
    "data['content_rating'].replace(['R','PG-13','NR','PG','G','NC17'],[0,1,2,3,4,5],inplace=True)\n",
    "#data['top_critic'].replace(['False','True'],[0,1], inplace=True)\n",
    "data['review_type'].replace(['Rotten','Fresh'],[0,1], inplace=True)"
   ]
  },
  {
   "cell_type": "code",
   "execution_count": 196,
   "metadata": {},
   "outputs": [
    {
     "name": "stderr",
     "output_type": "stream",
     "text": [
      "/var/folders/zv/2d04czqj0pdg7tx96g6xj01m0000gq/T/ipykernel_86574/4142617722.py:1: SettingWithCopyWarning: \n",
      "A value is trying to be set on a copy of a slice from a DataFrame\n",
      "\n",
      "See the caveats in the documentation: https://pandas.pydata.org/pandas-docs/stable/user_guide/indexing.html#returning-a-view-versus-a-copy\n",
      "  data.drop(columns=['top_critic'],inplace=True)\n"
     ]
    }
   ],
   "source": [
    "data.drop(columns=['top_critic'],inplace=True)"
   ]
  },
  {
   "cell_type": "code",
   "execution_count": 197,
   "metadata": {},
   "outputs": [],
   "source": [
    "from sklearn.model_selection import train_test_split\n",
    "\n",
    "y = data['tomatometer_status']\n",
    "X = data.drop(columns = ['tomatometer_status'], axis = 1)"
   ]
  },
  {
   "cell_type": "code",
   "execution_count": 198,
   "metadata": {},
   "outputs": [
    {
     "data": {
      "text/plain": [
       "((789894, 12), (789894,), (338527, 12), (338527,))"
      ]
     },
     "execution_count": 198,
     "metadata": {},
     "output_type": "execute_result"
    }
   ],
   "source": [
    "# one hot encoding on training and testing seperately\n",
    "\n",
    "# one hot encoding\n",
    "train_x , test_x , train_y , test_y = train_test_split(X , y , test_size=0.3 , stratify=y , random_state=42)\n",
    "\n",
    "train_x.shape , train_y.shape , test_x.shape , test_y.shape"
   ]
  },
  {
   "cell_type": "code",
   "execution_count": 199,
   "metadata": {},
   "outputs": [
    {
     "data": {
      "text/html": [
       "<div>\n",
       "<style scoped>\n",
       "    .dataframe tbody tr th:only-of-type {\n",
       "        vertical-align: middle;\n",
       "    }\n",
       "\n",
       "    .dataframe tbody tr th {\n",
       "        vertical-align: top;\n",
       "    }\n",
       "\n",
       "    .dataframe thead th {\n",
       "        text-align: right;\n",
       "    }\n",
       "</style>\n",
       "<table border=\"1\" class=\"dataframe\">\n",
       "  <thead>\n",
       "    <tr style=\"text-align: right;\">\n",
       "      <th></th>\n",
       "      <th>content_rating</th>\n",
       "      <th>runtime</th>\n",
       "      <th>tomatometer_rating</th>\n",
       "      <th>tomatometer_count</th>\n",
       "      <th>audience_status</th>\n",
       "      <th>audience_rating</th>\n",
       "      <th>audience_count</th>\n",
       "      <th>tomatometer_top_critics_count</th>\n",
       "      <th>tomatometer_fresh_critics_count</th>\n",
       "      <th>tomatometer_rotten_critics_count</th>\n",
       "      <th>review_type</th>\n",
       "      <th>days_between_streaming_release</th>\n",
       "    </tr>\n",
       "  </thead>\n",
       "  <tbody>\n",
       "    <tr>\n",
       "      <th>1099982</th>\n",
       "      <td>0</td>\n",
       "      <td>95.0</td>\n",
       "      <td>91.0</td>\n",
       "      <td>74.0</td>\n",
       "      <td>396030.0</td>\n",
       "      <td>89.0</td>\n",
       "      <td>396030.0</td>\n",
       "      <td>19</td>\n",
       "      <td>67</td>\n",
       "      <td>7</td>\n",
       "      <td>1</td>\n",
       "      <td>10001.0</td>\n",
       "    </tr>\n",
       "    <tr>\n",
       "      <th>426442</th>\n",
       "      <td>3</td>\n",
       "      <td>97.0</td>\n",
       "      <td>62.0</td>\n",
       "      <td>118.0</td>\n",
       "      <td>3485.0</td>\n",
       "      <td>48.0</td>\n",
       "      <td>3485.0</td>\n",
       "      <td>25</td>\n",
       "      <td>73</td>\n",
       "      <td>45</td>\n",
       "      <td>0</td>\n",
       "      <td>75.0</td>\n",
       "    </tr>\n",
       "  </tbody>\n",
       "</table>\n",
       "</div>"
      ],
      "text/plain": [
       "         content_rating  runtime  tomatometer_rating  tomatometer_count  \\\n",
       "1099982               0     95.0                91.0               74.0   \n",
       "426442                3     97.0                62.0              118.0   \n",
       "\n",
       "         audience_status  audience_rating  audience_count  \\\n",
       "1099982         396030.0             89.0        396030.0   \n",
       "426442            3485.0             48.0          3485.0   \n",
       "\n",
       "         tomatometer_top_critics_count  tomatometer_fresh_critics_count  \\\n",
       "1099982                             19                               67   \n",
       "426442                              25                               73   \n",
       "\n",
       "         tomatometer_rotten_critics_count  review_type  \\\n",
       "1099982                                 7            1   \n",
       "426442                                 45            0   \n",
       "\n",
       "         days_between_streaming_release  \n",
       "1099982                         10001.0  \n",
       "426442                             75.0  "
      ]
     },
     "execution_count": 199,
     "metadata": {},
     "output_type": "execute_result"
    }
   ],
   "source": [
    "train_x.head(2)"
   ]
  },
  {
   "cell_type": "code",
   "execution_count": 200,
   "metadata": {},
   "outputs": [],
   "source": [
    "# logistic Regression\n",
    "\\\n",
    "from sklearn.linear_model import LogisticRegression\n",
    "from sklearn.tree import DecisionTreeClassifier\n",
    "from sklearn.ensemble import RandomForestClassifier\n",
    "\n",
    "from sklearn.metrics import classification_report , confusion_matrix\n",
    "\n"
   ]
  },
  {
   "cell_type": "code",
   "execution_count": 201,
   "metadata": {},
   "outputs": [
    {
     "name": "stdout",
     "output_type": "stream",
     "text": [
      "              precision    recall  f1-score   support\n",
      "\n",
      "           0       0.00      0.00      0.00    131226\n",
      "           1       1.00      0.00      0.00     75025\n",
      "           2       0.39      1.00      0.56    132276\n",
      "\n",
      "    accuracy                           0.39    338527\n",
      "   macro avg       0.46      0.33      0.19    338527\n",
      "weighted avg       0.37      0.39      0.22    338527\n",
      "\n"
     ]
    }
   ],
   "source": [
    "lg = LogisticRegression()\n",
    "lg.fit(train_x , train_y)\n",
    "lg_pred = lg.predict(test_x)\n",
    "print(classification_report(test_y , lg_pred))"
   ]
  },
  {
   "cell_type": "code",
   "execution_count": 202,
   "metadata": {},
   "outputs": [
    {
     "data": {
      "text/plain": [
       "array([[     0,      0, 131226],\n",
       "       [     7,     10,  75008],\n",
       "       [     0,      0, 132276]])"
      ]
     },
     "execution_count": 202,
     "metadata": {},
     "output_type": "execute_result"
    }
   ],
   "source": [
    "confusion_matrix(test_y , lg_pred)"
   ]
  },
  {
   "cell_type": "code",
   "execution_count": 203,
   "metadata": {},
   "outputs": [
    {
     "name": "stdout",
     "output_type": "stream",
     "text": [
      "              precision    recall  f1-score   support\n",
      "\n",
      "           0       1.00      1.00      1.00    131226\n",
      "           1       0.94      0.98      0.96     75025\n",
      "           2       0.99      0.97      0.98    132276\n",
      "\n",
      "    accuracy                           0.98    338527\n",
      "   macro avg       0.98      0.98      0.98    338527\n",
      "weighted avg       0.98      0.98      0.98    338527\n",
      "\n"
     ]
    },
    {
     "data": {
      "text/plain": [
       "array([[131226,      0,      0],\n",
       "       [     0,  73746,   1279],\n",
       "       [     0,   4506, 127770]])"
      ]
     },
     "execution_count": 203,
     "metadata": {},
     "output_type": "execute_result"
    }
   ],
   "source": [
    "dt = DecisionTreeClassifier(max_depth=3 , random_state= 42)\n",
    "dt.fit(train_x , train_y)\n",
    "dt_pred = dt.predict(test_x)\n",
    "print(classification_report(test_y , dt_pred))\n",
    "confusion_matrix(test_y , dt_pred)"
   ]
  },
  {
   "cell_type": "code",
   "execution_count": 204,
   "metadata": {},
   "outputs": [
    {
     "data": {
      "text/plain": [
       "Index(['content_rating', 'runtime', 'tomatometer_rating', 'tomatometer_count',\n",
       "       'audience_status', 'audience_rating', 'audience_count',\n",
       "       'tomatometer_top_critics_count', 'tomatometer_fresh_critics_count',\n",
       "       'tomatometer_rotten_critics_count', 'review_type',\n",
       "       'days_between_streaming_release'],\n",
       "      dtype='object')"
      ]
     },
     "execution_count": 204,
     "metadata": {},
     "output_type": "execute_result"
    }
   ],
   "source": [
    "train_x.columns"
   ]
  },
  {
   "cell_type": "code",
   "execution_count": 205,
   "metadata": {},
   "outputs": [
    {
     "data": {
      "image/png": "[encoded data removed]",
      "text/plain": [
       "<Figure size 640x480 with 1 Axes>"
      ]
     },
     "metadata": {},
     "output_type": "display_data"
    }
   ],
   "source": [
    "from sklearn import tree\n",
    "#fig , ax = plt.subplots(figsize =(12,9))\n",
    "tree.plot_tree(dt )\n",
    "plt.show()"
   ]
  },
  {
   "cell_type": "code",
   "execution_count": 206,
   "metadata": {},
   "outputs": [
    {
     "data": {
      "text/plain": [
       "Index(['content_rating', 'runtime', 'tomatometer_rating', 'tomatometer_count',\n",
       "       'audience_status', 'audience_rating', 'audience_count',\n",
       "       'tomatometer_top_critics_count', 'tomatometer_fresh_critics_count',\n",
       "       'tomatometer_rotten_critics_count', 'review_type',\n",
       "       'days_between_streaming_release'],\n",
       "      dtype='object')"
      ]
     },
     "execution_count": 206,
     "metadata": {},
     "output_type": "execute_result"
    }
   ],
   "source": [
    "train_x.columns"
   ]
  },
  {
   "cell_type": "code",
   "execution_count": 215,
   "metadata": {},
   "outputs": [
    {
     "name": "stdout",
     "output_type": "stream",
     "text": [
      "              precision    recall  f1-score   support\n",
      "\n",
      "           0       1.00      1.00      1.00    131226\n",
      "           1       0.96      0.78      0.86     75025\n",
      "           2       0.89      0.98      0.93    132276\n",
      "\n",
      "    accuracy                           0.95    338527\n",
      "   macro avg       0.95      0.92      0.93    338527\n",
      "weighted avg       0.95      0.95      0.94    338527\n",
      "\n"
     ]
    },
    {
     "data": {
      "text/plain": [
       "array([[131226,      0,      0],\n",
       "       [     0,  58844,  16181],\n",
       "       [     0,   2200, 130076]])"
      ]
     },
     "execution_count": 215,
     "metadata": {},
     "output_type": "execute_result"
    }
   ],
   "source": [
    "rf = RandomForestClassifier(random_state=42 ,max_depth=3)\n",
    "rf.fit(train_x , train_y)\n",
    "rf_pred = rf.predict(test_x)\n",
    "print(classification_report(test_y ,rf_pred))\n",
    "confusion_matrix(test_y , rf_pred)"
   ]
  },
  {
   "cell_type": "code",
   "execution_count": 216,
   "metadata": {},
   "outputs": [
    {
     "data": {
      "text/html": [
       "<div>\n",
       "<style scoped>\n",
       "    .dataframe tbody tr th:only-of-type {\n",
       "        vertical-align: middle;\n",
       "    }\n",
       "\n",
       "    .dataframe tbody tr th {\n",
       "        vertical-align: top;\n",
       "    }\n",
       "\n",
       "    .dataframe thead th {\n",
       "        text-align: right;\n",
       "    }\n",
       "</style>\n",
       "<table border=\"1\" class=\"dataframe\">\n",
       "  <thead>\n",
       "    <tr style=\"text-align: right;\">\n",
       "      <th></th>\n",
       "      <th>0</th>\n",
       "      <th>columns</th>\n",
       "    </tr>\n",
       "  </thead>\n",
       "  <tbody>\n",
       "    <tr>\n",
       "      <th>0</th>\n",
       "      <td>0.001498</td>\n",
       "      <td>content_rating</td>\n",
       "    </tr>\n",
       "    <tr>\n",
       "      <th>1</th>\n",
       "      <td>0.000542</td>\n",
       "      <td>runtime</td>\n",
       "    </tr>\n",
       "    <tr>\n",
       "      <th>2</th>\n",
       "      <td>0.442257</td>\n",
       "      <td>tomatometer_rating</td>\n",
       "    </tr>\n",
       "    <tr>\n",
       "      <th>3</th>\n",
       "      <td>0.050608</td>\n",
       "      <td>tomatometer_count</td>\n",
       "    </tr>\n",
       "    <tr>\n",
       "      <th>4</th>\n",
       "      <td>0.005536</td>\n",
       "      <td>audience_status</td>\n",
       "    </tr>\n",
       "    <tr>\n",
       "      <th>5</th>\n",
       "      <td>0.114315</td>\n",
       "      <td>audience_rating</td>\n",
       "    </tr>\n",
       "    <tr>\n",
       "      <th>6</th>\n",
       "      <td>0.005048</td>\n",
       "      <td>audience_count</td>\n",
       "    </tr>\n",
       "    <tr>\n",
       "      <th>7</th>\n",
       "      <td>0.028389</td>\n",
       "      <td>tomatometer_top_critics_count</td>\n",
       "    </tr>\n",
       "    <tr>\n",
       "      <th>8</th>\n",
       "      <td>0.185089</td>\n",
       "      <td>tomatometer_fresh_critics_count</td>\n",
       "    </tr>\n",
       "    <tr>\n",
       "      <th>9</th>\n",
       "      <td>0.126302</td>\n",
       "      <td>tomatometer_rotten_critics_count</td>\n",
       "    </tr>\n",
       "    <tr>\n",
       "      <th>10</th>\n",
       "      <td>0.038681</td>\n",
       "      <td>review_type</td>\n",
       "    </tr>\n",
       "    <tr>\n",
       "      <th>11</th>\n",
       "      <td>0.001735</td>\n",
       "      <td>days_between_streaming_release</td>\n",
       "    </tr>\n",
       "  </tbody>\n",
       "</table>\n",
       "</div>"
      ],
      "text/plain": [
       "           0                           columns\n",
       "0   0.001498                    content_rating\n",
       "1   0.000542                           runtime\n",
       "2   0.442257                tomatometer_rating\n",
       "3   0.050608                 tomatometer_count\n",
       "4   0.005536                   audience_status\n",
       "5   0.114315                   audience_rating\n",
       "6   0.005048                    audience_count\n",
       "7   0.028389     tomatometer_top_critics_count\n",
       "8   0.185089   tomatometer_fresh_critics_count\n",
       "9   0.126302  tomatometer_rotten_critics_count\n",
       "10  0.038681                       review_type\n",
       "11  0.001735    days_between_streaming_release"
      ]
     },
     "execution_count": 216,
     "metadata": {},
     "output_type": "execute_result"
    }
   ],
   "source": [
    "rf_var = pd.DataFrame(rf.feature_importances_)\n",
    "rf_var['columns'] = train_x.columns\n",
    "rf_var"
   ]
  },
  {
   "cell_type": "code",
   "execution_count": 209,
   "metadata": {},
   "outputs": [],
   "source": [
    "#!pip install xgboost"
   ]
  },
  {
   "cell_type": "code",
   "execution_count": 220,
   "metadata": {},
   "outputs": [
    {
     "name": "stdout",
     "output_type": "stream",
     "text": [
      "              precision    recall  f1-score   support\n",
      "\n",
      "           0       1.00      1.00      1.00    131226\n",
      "           1       1.00      1.00      1.00     75025\n",
      "           2       1.00      1.00      1.00    132276\n",
      "\n",
      "    accuracy                           1.00    338527\n",
      "   macro avg       1.00      1.00      1.00    338527\n",
      "weighted avg       1.00      1.00      1.00    338527\n",
      "\n"
     ]
    },
    {
     "data": {
      "text/plain": [
       "array([[131226,      0,      0],\n",
       "       [     0,  74909,    116],\n",
       "       [     0,    173, 132103]])"
      ]
     },
     "execution_count": 220,
     "metadata": {},
     "output_type": "execute_result"
    }
   ],
   "source": [
    "from xgboost import XGBClassifier\n",
    "\n",
    "xg = XGBClassifier(random_state = 42 , max_depth =3 )\n",
    "xg.fit(train_x , train_y)\n",
    "pred_xg = xg.predict(test_x)\n",
    "print(classification_report(test_y ,pred_xg))\n",
    "confusion_matrix(test_y ,pred_xg)"
   ]
  },
  {
   "cell_type": "code",
   "execution_count": null,
   "metadata": {},
   "outputs": [],
   "source": []
  },
  {
   "cell_type": "code",
   "execution_count": 211,
   "metadata": {},
   "outputs": [
    {
     "data": {
      "text/html": [
       "<div>\n",
       "<style scoped>\n",
       "    .dataframe tbody tr th:only-of-type {\n",
       "        vertical-align: middle;\n",
       "    }\n",
       "\n",
       "    .dataframe tbody tr th {\n",
       "        vertical-align: top;\n",
       "    }\n",
       "\n",
       "    .dataframe thead th {\n",
       "        text-align: right;\n",
       "    }\n",
       "</style>\n",
       "<table border=\"1\" class=\"dataframe\">\n",
       "  <thead>\n",
       "    <tr style=\"text-align: right;\">\n",
       "      <th></th>\n",
       "      <th>0</th>\n",
       "      <th>columns</th>\n",
       "    </tr>\n",
       "  </thead>\n",
       "  <tbody>\n",
       "    <tr>\n",
       "      <th>0</th>\n",
       "      <td>0.006377</td>\n",
       "      <td>content_rating</td>\n",
       "    </tr>\n",
       "    <tr>\n",
       "      <th>1</th>\n",
       "      <td>0.003189</td>\n",
       "      <td>runtime</td>\n",
       "    </tr>\n",
       "    <tr>\n",
       "      <th>2</th>\n",
       "      <td>0.687607</td>\n",
       "      <td>tomatometer_rating</td>\n",
       "    </tr>\n",
       "    <tr>\n",
       "      <th>3</th>\n",
       "      <td>0.271139</td>\n",
       "      <td>tomatometer_count</td>\n",
       "    </tr>\n",
       "    <tr>\n",
       "      <th>4</th>\n",
       "      <td>0.005674</td>\n",
       "      <td>audience_status</td>\n",
       "    </tr>\n",
       "    <tr>\n",
       "      <th>5</th>\n",
       "      <td>0.002643</td>\n",
       "      <td>audience_rating</td>\n",
       "    </tr>\n",
       "    <tr>\n",
       "      <th>6</th>\n",
       "      <td>0.000000</td>\n",
       "      <td>audience_count</td>\n",
       "    </tr>\n",
       "    <tr>\n",
       "      <th>7</th>\n",
       "      <td>0.007691</td>\n",
       "      <td>tomatometer_top_critics_count</td>\n",
       "    </tr>\n",
       "    <tr>\n",
       "      <th>8</th>\n",
       "      <td>0.004964</td>\n",
       "      <td>tomatometer_fresh_critics_count</td>\n",
       "    </tr>\n",
       "    <tr>\n",
       "      <th>9</th>\n",
       "      <td>0.004800</td>\n",
       "      <td>tomatometer_rotten_critics_count</td>\n",
       "    </tr>\n",
       "    <tr>\n",
       "      <th>10</th>\n",
       "      <td>0.000000</td>\n",
       "      <td>review_type</td>\n",
       "    </tr>\n",
       "    <tr>\n",
       "      <th>11</th>\n",
       "      <td>0.005916</td>\n",
       "      <td>days_between_streaming_release</td>\n",
       "    </tr>\n",
       "  </tbody>\n",
       "</table>\n",
       "</div>"
      ],
      "text/plain": [
       "           0                           columns\n",
       "0   0.006377                    content_rating\n",
       "1   0.003189                           runtime\n",
       "2   0.687607                tomatometer_rating\n",
       "3   0.271139                 tomatometer_count\n",
       "4   0.005674                   audience_status\n",
       "5   0.002643                   audience_rating\n",
       "6   0.000000                    audience_count\n",
       "7   0.007691     tomatometer_top_critics_count\n",
       "8   0.004964   tomatometer_fresh_critics_count\n",
       "9   0.004800  tomatometer_rotten_critics_count\n",
       "10  0.000000                       review_type\n",
       "11  0.005916    days_between_streaming_release"
      ]
     },
     "execution_count": 211,
     "metadata": {},
     "output_type": "execute_result"
    }
   ],
   "source": [
    "\n",
    "xg_var = pd.DataFrame(xg.feature_importances_)\n",
    "xg_var['columns'] = train_x.columns\n",
    "xg_var"
   ]
  },
  {
   "cell_type": "code",
   "execution_count": 212,
   "metadata": {},
   "outputs": [
    {
     "data": {
      "text/plain": [
       "<Axes: xlabel='tomatometer_status', ylabel='tomatometer_rating'>"
      ]
     },
     "execution_count": 212,
     "metadata": {},
     "output_type": "execute_result"
    },
    {
     "data": {
      "image/png": "[encoded data removed]",
      "text/plain": [
       "<Figure size 640x480 with 1 Axes>"
      ]
     },
     "metadata": {},
     "output_type": "display_data"
    }
   ],
   "source": [
    "sns.boxplot(data = movie_data , y= 'tomatometer_rating',x = 'tomatometer_status')"
   ]
  },
  {
   "cell_type": "code",
   "execution_count": 213,
   "metadata": {},
   "outputs": [
    {
     "data": {
      "text/plain": [
       "0         49.0\n",
       "1         87.0\n",
       "2         67.0\n",
       "3        100.0\n",
       "4         89.0\n",
       "         ...  \n",
       "17707     56.0\n",
       "17708     98.0\n",
       "17709     80.0\n",
       "17710     96.0\n",
       "17711     50.0\n",
       "Name: tomatometer_rating, Length: 17712, dtype: float64"
      ]
     },
     "execution_count": 213,
     "metadata": {},
     "output_type": "execute_result"
    }
   ],
   "source": [
    "movie_data['tomatometer_rating']"
   ]
  }
 ],
 "metadata": {
  "kernelspec": {
   "display_name": "base",
   "language": "python",
   "name": "python3"
  },
  "language_info": {
   "codemirror_mode": {
    "name": "ipython",
    "version": 3
   },
   "file_extension": ".py",
   "mimetype": "text/x-python",
   "name": "python",
   "nbconvert_exporter": "python",
   "pygments_lexer": "ipython3",
   "version": "3.11.5"
  }
 },
 "nbformat": 4,
 "nbformat_minor": 2
}
